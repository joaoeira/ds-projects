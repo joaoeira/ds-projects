{
 "cells": [
  {
   "cell_type": "markdown",
   "metadata": {},
   "source": [
    "# Project - Credit Card customers"
   ]
  },
  {
   "cell_type": "markdown",
   "metadata": {},
   "source": [
    "By João Eira - [www.joaoeira.com](www.joaoeira.com)\n",
    "\n",
    "Data from: [Kaggle](https://www.kaggle.com/sakshigoyal7/credit-card-customers)"
   ]
  },
  {
   "cell_type": "markdown",
   "metadata": {},
   "source": [
    "A bank has many customers, and some of them will eventually cease to be so. \n",
    "\n",
    "Customer attrition, or churn, is a problem endemic to many businesses, and having systems in place to predict which customers are at a higher risk of churning is an important component to any business working to keep customers doing business with them.\n",
    "\n",
    "This project is an attempt at implementing such a system. The data I use purports to belong to a (fictional, supposedly) bank who wants to predict which users are at a risk of churning. To do so, the data includes extensive demographic data of the bank's customers alongside with their status as having already churned or continuing to be customers of the bank.\n",
    "\n",
    "The project is therefore a classification project and will employ machine learning techniques appropriate for such purpose. The goal will be to implement many such techniques and then select the one with the best accurary, that is, the one which makes the least mistakes in classifying customers as having churned or not. \n",
    "\n",
    "With that at hand, the fictional bank will be able to identity its customers who are at the threshold of severing their relationship with the bank and thus work to keep them happy customers. "
   ]
  },
  {
   "cell_type": "markdown",
   "metadata": {},
   "source": [
    "## Importing packages"
   ]
  },
  {
   "cell_type": "code",
   "execution_count": 13,
   "metadata": {},
   "outputs": [],
   "source": [
    "import pandas as pd\n",
    "pd.options.mode.chained_assignment = None  # default='warn'\n",
    "\n",
    "\n",
    "import numpy as np\n",
    "import matplotlib.pyplot as plt\n",
    "\n",
    "from sklearn.pipeline import make_pipeline\n",
    "from sklearn.preprocessing import StandardScaler\n",
    "from sklearn import svm\n",
    "from sklearn.model_selection import train_test_split, GridSearchCV\n",
    "from sklearn.feature_extraction import DictVectorizer\n",
    "from sklearn.linear_model import LogisticRegression, LogisticRegressionCV\n",
    "from sklearn.ensemble import RandomForestClassifier\n",
    "from sklearn.preprocessing import OneHotEncoder\n",
    "from sklearn.metrics import confusion_matrix\n",
    "\n",
    "import seaborn as sns"
   ]
  },
  {
   "cell_type": "markdown",
   "metadata": {},
   "source": [
    "## Importing data"
   ]
  },
  {
   "cell_type": "code",
   "execution_count": 14,
   "metadata": {},
   "outputs": [],
   "source": [
    "data = pd.read_csv('../data/BankChurners.csv')"
   ]
  },
  {
   "cell_type": "code",
   "execution_count": 15,
   "metadata": {},
   "outputs": [],
   "source": [
    "data = data.drop(columns = [\"CLIENTNUM\",\n",
    "                            \"Naive_Bayes_Classifier_Attrition_Flag_Card_Category_Contacts_Count_12_mon_Dependent_count_Education_Level_Months_Inactive_12_mon_1\",  \n",
    "                            \"Naive_Bayes_Classifier_Attrition_Flag_Card_Category_Contacts_Count_12_mon_Dependent_count_Education_Level_Months_Inactive_12_mon_2\"])"
   ]
  },
  {
   "cell_type": "markdown",
   "metadata": {},
   "source": [
    "### Data description"
   ]
  },
  {
   "cell_type": "markdown",
   "metadata": {},
   "source": [
    "**Features**\n",
    "\n",
    "* **CLENTNUM**: Client number. Unique identifier for the customer holding the account\n",
    "\n",
    "* **Customer_Age**: Demographic variable - Customer's Age in Years\n",
    "\n",
    "* **Gender**: Demographic variable - M=Male, F=Female\n",
    "\n",
    "* **Dependent_count**: Demographic variable - Number of dependents\n",
    "\n",
    "* **Education_Level**: Demographic variable - Educational Qualification of the account holder (example: high school, college graduate, etc.)\n",
    "\n",
    "* **Marital_Status**: Demographic variable - Married, Single, Divorced, Unknown\n",
    "\n",
    "* **Income_Category**: Demographic variable - Annual Income Category of the account holder (<  40𝐾, 40K - 60K,  60𝐾− 80K,  80𝐾− 120K, > $120K, Unknown)\n",
    "\n",
    "* **Card_Category**: Product Variable - Type of Card (Blue, Silver, Gold, Platinum)\n",
    "\n",
    "* **Months_on_book**: Period of relationship with bank\n",
    "\n",
    "* **Total_Relationship_Count**: Total no. of products held by the customer\n",
    "\n",
    "* **Months_Inactive_12_mon**: No. of months inactive in the last 12 months\n",
    "\n",
    "* **Contacts_Count_12_mon**: No. of Contacts in the last 12 months\n",
    "\n",
    "* **Credit_Limit**: Credit Limit on the Credit Card\n",
    "\n",
    "* **Total_Revolving_Bal**: Total Revolving Balance on the Credit Card\n",
    "\n",
    "* **Avg_Open_To_Buy**: Open to Buy Credit Line (Average of last 12 months)\n",
    "\n",
    "* **Total_Amt_Chng_Q4_Q1**: Change in Transaction Amount (Q4 over Q1)\n",
    "\n",
    "* **Total_Trans_Amt**: Total Transaction Amount (Last 12 months)\n",
    "\n",
    "* **Total_Trans_Ct**: Total Transaction Count (Last 12 months)\n",
    "\n",
    "* **Total_Ct_Chng_Q4_Q1**: Change in Transaction Count (Q4 over Q1)\n",
    "\n",
    "* **Avg_Utilization_Ratio**: Average Card Utilization Ratio"
   ]
  },
  {
   "cell_type": "code",
   "execution_count": 16,
   "metadata": {},
   "outputs": [
    {
     "name": "stdout",
     "output_type": "stream",
     "text": [
      "<class 'pandas.core.frame.DataFrame'>\n",
      "RangeIndex: 10127 entries, 0 to 10126\n",
      "Data columns (total 20 columns):\n",
      " #   Column                    Non-Null Count  Dtype  \n",
      "---  ------                    --------------  -----  \n",
      " 0   Attrition_Flag            10127 non-null  object \n",
      " 1   Customer_Age              10127 non-null  int64  \n",
      " 2   Gender                    10127 non-null  object \n",
      " 3   Dependent_count           10127 non-null  int64  \n",
      " 4   Education_Level           10127 non-null  object \n",
      " 5   Marital_Status            10127 non-null  object \n",
      " 6   Income_Category           10127 non-null  object \n",
      " 7   Card_Category             10127 non-null  object \n",
      " 8   Months_on_book            10127 non-null  int64  \n",
      " 9   Total_Relationship_Count  10127 non-null  int64  \n",
      " 10  Months_Inactive_12_mon    10127 non-null  int64  \n",
      " 11  Contacts_Count_12_mon     10127 non-null  int64  \n",
      " 12  Credit_Limit              10127 non-null  float64\n",
      " 13  Total_Revolving_Bal       10127 non-null  int64  \n",
      " 14  Avg_Open_To_Buy           10127 non-null  float64\n",
      " 15  Total_Amt_Chng_Q4_Q1      10127 non-null  float64\n",
      " 16  Total_Trans_Amt           10127 non-null  int64  \n",
      " 17  Total_Trans_Ct            10127 non-null  int64  \n",
      " 18  Total_Ct_Chng_Q4_Q1       10127 non-null  float64\n",
      " 19  Avg_Utilization_Ratio     10127 non-null  float64\n",
      "dtypes: float64(5), int64(9), object(6)\n",
      "memory usage: 1.5+ MB\n"
     ]
    }
   ],
   "source": [
    "data.info()"
   ]
  },
  {
   "cell_type": "markdown",
   "metadata": {},
   "source": [
    "## Exploratory Data Analysis"
   ]
  },
  {
   "cell_type": "code",
   "execution_count": 17,
   "metadata": {},
   "outputs": [],
   "source": [
    "# Age categories\n",
    "data[\"Age_26-30\"] = np.where(data[\"Customer_Age\"] < 30,1,0)\n",
    "data[\"Age_30-40\"] = np.where((data[\"Customer_Age\"] >=30) & (data[\"Customer_Age\"] < 40),1,0)\n",
    "data[\"Age_40-50\"] = np.where((data[\"Customer_Age\"] >=40) & (data[\"Customer_Age\"] < 50),1,0)\n",
    "data[\"Age_50-60\"] = np.where((data[\"Customer_Age\"] >=50) & (data[\"Customer_Age\"] < 60),1,0)\n",
    "data[\"Age_60\"] = np.where((data[\"Customer_Age\"] >= 60),1,0)\n",
    "\n",
    "data[\"Age\"] = 0\n",
    "data[\"Age\"][data[\"Age_26-30\"] ==1] = \"Less than 30\"\n",
    "data[\"Age\"][data[\"Age_30-40\"] ==1] = \"30-39\"\n",
    "data[\"Age\"][data[\"Age_40-50\"] ==1] = \"40-49\"\n",
    "data[\"Age\"][data[\"Age_50-60\"] ==1] = \"50-59\"\n",
    "data[\"Age\"][data[\"Age_60\"] ==1] = \"60 and More\""
   ]
  },
  {
   "cell_type": "code",
   "execution_count": 18,
   "metadata": {},
   "outputs": [],
   "source": [
    "# Income categories\n",
    "data[\"Income_40\"] = np.where(data[\"Income_Category\"] == 'Less than $40K',1,0)\n",
    "data[\"Income_40-80\"] = np.where(data[\"Income_Category\"] == '$40K - $60K',1,0)\n",
    "data[\"Income_60-80\"] = np.where(data[\"Income_Category\"] == '$60K - $80K',1,0)\n",
    "data[\"Income_0-120\"] = np.where(data[\"Income_Category\"] == '$80K - $120K',1,0)\n",
    "data[\"Income_120\"] = np.where(data[\"Income_Category\"] == '$120K +',1,0)\n",
    "data[\"Income_u\"] = np.where(data[\"Income_Category\"] == 'Unknown',1,0)"
   ]
  },
  {
   "cell_type": "markdown",
   "metadata": {},
   "source": [
    "How does age and income, sex and education affect customer attrition? Do the old or the young, the educated or the less educated, male or female, rich, or poor, cease to be customers of the bank?"
   ]
  },
  {
   "cell_type": "code",
   "execution_count": 19,
   "metadata": {
    "scrolled": true
   },
   "outputs": [
    {
     "data": {
      "image/png": "[encoded data removed]",
      "text/plain": [
       "<Figure size 1080x360 with 4 Axes>"
      ]
     },
     "metadata": {
      "needs_background": "light"
     },
     "output_type": "display_data"
    }
   ],
   "source": [
    "fig, (ax1,ax2,ax3,ax4) = plt.subplots(1,4,figsize=(15,5))\n",
    "\n",
    "gender_count = sns.countplot(x=\"Attrition_Flag\",data=data,hue=\"Gender\", ax = ax1)\n",
    "income_count = sns.countplot(x=\"Attrition_Flag\",data=data,hue=\"Income_Category\", ax = ax2)\n",
    "ed_count = sns.countplot(x=\"Attrition_Flag\",data=data,hue=\"Education_Level\", ax = ax3)\n",
    "age_count = sns.countplot(x=\"Attrition_Flag\",data=data,hue=\"Age\", ax = ax4)"
   ]
  },
  {
   "cell_type": "markdown",
   "metadata": {},
   "source": [
    "## Data preparation"
   ]
  },
  {
   "cell_type": "code",
   "execution_count": 20,
   "metadata": {},
   "outputs": [],
   "source": [
    "data[\"Attrition_Flag\"] = np.where(data[\"Attrition_Flag\"] == \"Attrited Customer\",1,0)"
   ]
  },
  {
   "cell_type": "code",
   "execution_count": 21,
   "metadata": {},
   "outputs": [],
   "source": [
    "x = data.drop(['Attrition_Flag',\"Customer_Age\",\"Age\",\"Income_Category\"],axis=1)\n",
    "y = data[\"Attrition_Flag\"]"
   ]
  },
  {
   "cell_type": "markdown",
   "metadata": {},
   "source": [
    "####  One-hot Encoding"
   ]
  },
  {
   "cell_type": "markdown",
   "metadata": {},
   "source": [
    "One-hot encoding amounts to the creation of dummy variables where if the customer belongs to a certain category he or she is given the value one, as in \"true\", or zero if he or she doesn't, as in \"false\". So if a customer is female, then the female column would be 1, and the male column would be 0. \n",
    "\n",
    "The categorical variables we will create dummy variables out of are:\n",
    "- Education level\n",
    "- Marital status\n",
    "- Card category\n"
   ]
  },
  {
   "cell_type": "code",
   "execution_count": 22,
   "metadata": {},
   "outputs": [],
   "source": [
    "onehot = OneHotEncoder(handle_unknown='ignore')\n",
    "onehot_educationlevel = pd.DataFrame(onehot.fit_transform(x[[\"Education_Level\"]]).toarray())\n",
    "onehot_educationlevel.columns = [\"College\",\"Doctorate\",\"Graduate\",\"High School\",\"Post-Graduate\",\"Uneducated\",\"Education Unknown\"]"
   ]
  },
  {
   "cell_type": "code",
   "execution_count": 23,
   "metadata": {},
   "outputs": [],
   "source": [
    "onehot = OneHotEncoder(handle_unknown='ignore')\n",
    "onehot_maritalstatus = pd.DataFrame(onehot.fit_transform(x[[\"Marital_Status\"]]).toarray())\n",
    "onehot_maritalstatus.columns = [\"Divorced\",\"Married\",\"Single\",\"Marital Status Unknown\"]"
   ]
  },
  {
   "cell_type": "code",
   "execution_count": 24,
   "metadata": {},
   "outputs": [],
   "source": [
    "onehot = OneHotEncoder(handle_unknown='ignore')\n",
    "onehot_cardcategory = pd.DataFrame(onehot.fit_transform(x[[\"Card_Category\"]]).toarray())\n",
    "onehot_cardcategory.columns = [\"Card - Blue\",\"Card - Gold\",\"Card - Platinum\",\"Card - Silver\"]"
   ]
  },
  {
   "cell_type": "code",
   "execution_count": 25,
   "metadata": {},
   "outputs": [],
   "source": [
    "x[\"Gender\"] = np.where(x[\"Gender\"] == \"M\",1,0)"
   ]
  },
  {
   "cell_type": "code",
   "execution_count": 26,
   "metadata": {},
   "outputs": [],
   "source": [
    "to_concat = [onehot_cardcategory, onehot_educationlevel,onehot_maritalstatus]\n",
    "x = pd.concat([x,pd.concat(to_concat,axis=1)],axis=1)\n",
    "x = x.drop(columns=[\"Education_Level\",\"Marital_Status\",\"Card_Category\"])"
   ]
  },
  {
   "cell_type": "markdown",
   "metadata": {},
   "source": [
    "####  Creating train and test set"
   ]
  },
  {
   "cell_type": "markdown",
   "metadata": {},
   "source": [
    "The ultimate goal of the project is to create a model that others in the organization, in this case, a bank, can use to identity customers about to churn. As such, accuracy is of paramount importance since otherwise resources will be wasted.\n",
    "\n",
    "However, in building the model, we already know what happened. We know which customers churned, and which didn't. We can build a model using that data, but then how can we guarantee that the model provides useful results when applied to customers where we don't know what will happen, which is what we're after?\n",
    "\n",
    "To deal with this, the standard approach in data science is to split the dataset into what's called a test and a train dataset. The train data set is the dataset which we use to build the model, where its full information is used. The test data set, on the other hand, is artificially blinded from us. It has those customers on which we will test whether the model we've build up from the test data set provides accurate predictions. If the model tells us that the customer will churn when it actually won't, then that is a point against the correctness of the model. \n",
    "\n",
    "The more accurate predictions the model does, the better the model. "
   ]
  },
  {
   "cell_type": "code",
   "execution_count": 27,
   "metadata": {},
   "outputs": [],
   "source": [
    "x_train, x_test, y_train, y_test = train_test_split(x,y)"
   ]
  },
  {
   "cell_type": "markdown",
   "metadata": {},
   "source": [
    "####  Standardization"
   ]
  },
  {
   "cell_type": "markdown",
   "metadata": {},
   "source": [
    "Standardization is a, hum, standard data cleaning procedure where we center the data by subtracting the mean of each feature and then attempt to give it unit variance by diving it by its standard deviation. This is mostly a technical, necessary, procedure, not a modelling choice."
   ]
  },
  {
   "cell_type": "code",
   "execution_count": 28,
   "metadata": {},
   "outputs": [],
   "source": [
    "scaler = StandardScaler().fit(x_train)"
   ]
  },
  {
   "cell_type": "code",
   "execution_count": 29,
   "metadata": {},
   "outputs": [],
   "source": [
    "x_train_scaled = pd.DataFrame(scaler.transform(x_train))\n",
    "x_test_scaled = pd.DataFrame(scaler.transform(x_test))"
   ]
  },
  {
   "cell_type": "code",
   "execution_count": 30,
   "metadata": {},
   "outputs": [],
   "source": [
    "x_train_scaled.columns = x.columns\n",
    "x_test_scaled.columns = x.columns"
   ]
  },
  {
   "cell_type": "markdown",
   "metadata": {},
   "source": [
    "## Analysis"
   ]
  },
  {
   "cell_type": "markdown",
   "metadata": {},
   "source": [
    "The main four classification techniques we will use are:\n",
    "- Logistic regression\n",
    "- Support vector machines\n",
    "- Random forests\n",
    "- Gradient boosting\n",
    "\n",
    "More could be used, but an exhaustive application of techniques was not the purpose for the project. Moreover, practical terms, the four techniques used here tend to be enough to develop an accurate model."
   ]
  },
  {
   "cell_type": "markdown",
   "metadata": {},
   "source": [
    "### Logistic Regression"
   ]
  },
  {
   "cell_type": "code",
   "execution_count": 31,
   "metadata": {},
   "outputs": [
    {
     "name": "stdout",
     "output_type": "stream",
     "text": [
      "Accuracy of the logistic regression model is 0.9092\n"
     ]
    }
   ],
   "source": [
    "logistic = LogisticRegression(random_state=0).fit(x_train_scaled,y_train)\n",
    "print(\"Accuracy of the logistic regression model is %.4f\" %logistic.score(x_test_scaled,y_test))"
   ]
  },
  {
   "cell_type": "markdown",
   "metadata": {},
   "source": [
    "### Support Vector Machine"
   ]
  },
  {
   "cell_type": "code",
   "execution_count": 32,
   "metadata": {},
   "outputs": [
    {
     "name": "stdout",
     "output_type": "stream",
     "text": [
      "Accuracy of the support vector machine model is 0.9182\n"
     ]
    }
   ],
   "source": [
    "svc = svm.SVC()\n",
    "svc.fit(x_train_scaled,y_train)\n",
    "print(\"Accuracy of the support vector machine model is %.4f\" %svc.score(x_test_scaled,y_test))"
   ]
  },
  {
   "cell_type": "markdown",
   "metadata": {},
   "source": [
    "### Random Forests"
   ]
  },
  {
   "cell_type": "code",
   "execution_count": 33,
   "metadata": {},
   "outputs": [
    {
     "name": "stdout",
     "output_type": "stream",
     "text": [
      "Accuracy of the support random forest model is 0.9522\n"
     ]
    }
   ],
   "source": [
    "clf = RandomForestClassifier(max_depth=50, random_state=0)\n",
    "clf.fit(x_train_scaled, y_train)\n",
    "print(\"Accuracy of the support random forest model is %.4f\" %clf.score(x_test_scaled,y_test))"
   ]
  },
  {
   "cell_type": "markdown",
   "metadata": {},
   "source": [
    "###  XGboost"
   ]
  },
  {
   "cell_type": "code",
   "execution_count": 34,
   "metadata": {},
   "outputs": [
    {
     "name": "stdout",
     "output_type": "stream",
     "text": [
      "Accuracy of XGboost is 0.9704\n"
     ]
    }
   ],
   "source": [
    "import xgboost as xgb\n",
    "xg_reg = xgb.XGBClassifier(n_estimators=2250,\n",
    "                       max_depth=20, random_state=14,use_label_encoder=False, eval_metric=\"error\")\n",
    "xg_reg.fit(x_train_scaled,y_train)\n",
    "print(\"Accuracy of XGboost is %.4f\" %xg_reg.score(x_test_scaled,y_test))"
   ]
  },
  {
   "cell_type": "markdown",
   "metadata": {},
   "source": [
    "## Conclusion"
   ]
  },
  {
   "cell_type": "markdown",
   "metadata": {},
   "source": [
    "As can be seen in the print statements above, of the four classifiers, gradient boosting, as implemented by XGboost, provided us with the best accuracy, achieving 97% of correct classifications for the test data set. \n",
    "\n",
    "Given this high accuracy and relative simplicity of the classifiers used, the project can be considered a success."
   ]
  }
 ],
 "metadata": {
  "kernelspec": {
   "display_name": "Python 3",
   "language": "python",
   "name": "python3"
  },
  "language_info": {
   "codemirror_mode": {
    "name": "ipython",
    "version": 3
   },
   "file_extension": ".py",
   "mimetype": "text/x-python",
   "name": "python",
   "nbconvert_exporter": "python",
   "pygments_lexer": "ipython3",
   "version": "3.7.6"
  }
 },
 "nbformat": 4,
 "nbformat_minor": 2
}
